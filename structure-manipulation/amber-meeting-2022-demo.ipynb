{
 "cells": [
  {
   "cell_type": "code",
   "execution_count": null,
   "id": "9eb8d160-000d-41d8-9295-5505382ff72b",
   "metadata": {},
   "outputs": [],
   "source": [
    "from rdkit import Chem\n",
    "from rdkit.Chem.Draw import IPythonConsole\n",
    "from rdkit.Chem import Draw\n",
    "IPythonConsole.ipython_useSVG = True\n",
    "\n",
    "from collections import Counter\n",
    "import parmed as pmd"
   ]
  },
  {
   "cell_type": "markdown",
   "id": "cb62ad1e-d4f3-4629-a285-8939b69290dd",
   "metadata": {},
   "source": [
    "# Informatics\n",
    "\n",
    "ParmEd parses a lot of information out of a PDB or PDBx/mmCIF file."
   ]
  },
  {
   "cell_type": "code",
   "execution_count": null,
   "id": "3271b1e9-89bb-4ee0-913e-8c3f6426855b",
   "metadata": {},
   "outputs": [],
   "source": [
    "pdb = pmd.download_CIF(\"2koc\")"
   ]
  },
  {
   "cell_type": "code",
   "execution_count": null,
   "id": "dc076ef6-0eaa-406f-81eb-564a5b368bed",
   "metadata": {},
   "outputs": [],
   "source": [
    "pdb.experimental"
   ]
  },
  {
   "cell_type": "code",
   "execution_count": null,
   "id": "7f020d51-5959-4bd2-8430-1117ee315e04",
   "metadata": {},
   "outputs": [],
   "source": [
    "pdb.pmid, pdb.doi"
   ]
  },
  {
   "cell_type": "code",
   "execution_count": null,
   "id": "f10c47a5-8c9a-4b8d-bf7e-724d463d0365",
   "metadata": {},
   "outputs": [],
   "source": [
    "pdb.journal, pdb.page, pdb.year, pdb.journal_authors"
   ]
  },
  {
   "cell_type": "code",
   "execution_count": null,
   "id": "f9797d75-cabf-4639-a4cc-6960bac78ee7",
   "metadata": {},
   "outputs": [],
   "source": [
    "pdb.related_entries"
   ]
  },
  {
   "cell_type": "markdown",
   "id": "3ed39105-0b35-40b8-aab2-f261faabea0d",
   "metadata": {},
   "source": [
    "# Automatic file type determination\n",
    "\n",
    "File type is determined by the contents rather than filename extension.\n",
    "\n",
    "For many file types you can also specify a coordinate file to be loaded alongside."
   ]
  },
  {
   "cell_type": "code",
   "execution_count": null,
   "id": "b6820514-938b-428a-a169-fcd3f7c6cd54",
   "metadata": {},
   "outputs": [],
   "source": [
    "parm = pmd.load_file(\"amber.parm7\", \"amber.rst7\")\n",
    "parm"
   ]
  },
  {
   "cell_type": "markdown",
   "id": "04c6f0e4-815c-4cba-80aa-54d620bf94f9",
   "metadata": {},
   "source": [
    "# System Manipulation\n",
    "\n",
    "ParmEd supports a rich selection syntax, and selected subsystems remain fully parametrized (only parameters involving \"removed\" atoms are lost).\n",
    "\n",
    "### Amber Mask selection"
   ]
  },
  {
   "cell_type": "code",
   "execution_count": null,
   "id": "a7c08344-4be7-419c-8c9c-14f8a5cf801b",
   "metadata": {},
   "outputs": [],
   "source": [
    "parm[\"@CA,C,N\"]"
   ]
  },
  {
   "cell_type": "code",
   "execution_count": null,
   "id": "09da9e35-1406-4334-83bb-7aa1cf686938",
   "metadata": {},
   "outputs": [],
   "source": [
    "parm[\"!:WAT\"]"
   ]
  },
  {
   "cell_type": "code",
   "execution_count": null,
   "id": "a431bac4-4034-4b32-b225-e50c2cb9a4e8",
   "metadata": {},
   "outputs": [],
   "source": [
    "parm[\":1-9\"]"
   ]
  },
  {
   "cell_type": "markdown",
   "id": "4c3a1ccb-f601-4c63-aa05-7e008a77d63a",
   "metadata": {},
   "source": [
    "### Atom slice selection\n",
    "\n",
    "The `Structure` type and its subclasses also behave as either a 1-axis list of atoms or a 2-axis list of residues/atoms."
   ]
  },
  {
   "cell_type": "code",
   "execution_count": null,
   "id": "f11b942f-65e5-4e6e-ade5-6b5fb5ad47a8",
   "metadata": {},
   "outputs": [],
   "source": [
    "parm[:119]"
   ]
  },
  {
   "cell_type": "code",
   "execution_count": null,
   "id": "ecfd0a45-d083-4aa9-ae75-2a8b65e0a02b",
   "metadata": {},
   "outputs": [],
   "source": [
    "parm[:9, :]"
   ]
  },
  {
   "cell_type": "code",
   "execution_count": null,
   "id": "8c641993-e9de-487b-9733-2cfff1430a8f",
   "metadata": {},
   "outputs": [],
   "source": [
    "parm[:9, :2]"
   ]
  },
  {
   "cell_type": "code",
   "execution_count": null,
   "id": "1a35b0f2-9a05-4cdb-b870-5e284d8b2e87",
   "metadata": {},
   "outputs": [],
   "source": [
    "# A single index will return a single atom\n",
    "parm[0]"
   ]
  },
  {
   "cell_type": "markdown",
   "id": "736b03cd-f374-434e-95ba-c5b8fe8e32f3",
   "metadata": {},
   "source": [
    "## Slices vs. views\n",
    "\n",
    "Slices create an entirely new copy. Editing the resulting structure will not impact the original."
   ]
  },
  {
   "cell_type": "code",
   "execution_count": null,
   "id": "683d1544-956a-4990-a248-dcf1b64e1645",
   "metadata": {},
   "outputs": [],
   "source": [
    "new_parm = parm[:]\n",
    "\n",
    "for atom in new_parm[:119]:\n",
    "    atom.charge = 0\n",
    "max(a.charge for a in new_parm[:119])"
   ]
  },
  {
   "cell_type": "markdown",
   "id": "730f7007-aed4-43b8-9573-a93fe9aca9bc",
   "metadata": {},
   "source": [
    "There is a special `view` attribute that exposes a `StructureView` that can be sliced and accessed the same way a `Structure` can, but does *not* return a new instance."
   ]
  },
  {
   "cell_type": "code",
   "execution_count": null,
   "id": "dc1435e4-c437-450e-9c08-b567bef33b6d",
   "metadata": {},
   "outputs": [],
   "source": [
    "for atom in new_parm.view[:119]:\n",
    "    atom.charge = 0\n",
    "max(a.charge for a in new_parm[:119])"
   ]
  },
  {
   "cell_type": "markdown",
   "id": "5a1db7bd-85d4-42c8-b036-c85cbe76d492",
   "metadata": {},
   "source": [
    "# Bringing ParmEd Actions into the mix\n",
    "\n",
    "Any action you can execute in the `parmed` CLI can also be imported from `parmed.tools.actions` and used directly."
   ]
  },
  {
   "cell_type": "code",
   "execution_count": null,
   "id": "a6f6ebf6-cead-4c63-9273-0bbc41dfdb66",
   "metadata": {},
   "outputs": [],
   "source": [
    "new_parm = parm[:]\n",
    "\n",
    "Counter(a.mass for a in new_parm.atoms if a.element == 1)"
   ]
  },
  {
   "cell_type": "code",
   "execution_count": null,
   "id": "d03835bb-acf2-44d8-a959-1192194e12bf",
   "metadata": {},
   "outputs": [],
   "source": [
    "pmd.tools.actions.HMassRepartition(new_parm, 3.024, ring_hmass=2.016).execute()\n",
    "\n",
    "Counter(a.mass for a in new_parm.atoms if a.element == 1)"
   ]
  },
  {
   "cell_type": "code",
   "execution_count": null,
   "id": "6b163157-f96c-4b4d-8185-201a2cd08872",
   "metadata": {},
   "outputs": [],
   "source": [
    "sum(a.mass for a in parm.atoms), sum(a.mass for a in new_parm.atoms)"
   ]
  },
  {
   "cell_type": "markdown",
   "id": "ce674fd4-16b5-484a-8f56-480624684d1e",
   "metadata": {},
   "source": [
    "# Fun with Pandas\n",
    "\n",
    "![panda]()\n",
    "\n",
    "If you are comfortable with pandas, you can export a `Structure` as a pandas DataFrame and manipulate the resulting data."
   ]
  },
  {
   "cell_type": "code",
   "execution_count": null,
   "id": "e3acc511-f6af-4a75-8a4f-53e7fdfc8095",
   "metadata": {
    "tags": []
   },
   "outputs": [],
   "source": [
    "df = parm.to_dataframe()\n",
    "df"
   ]
  },
  {
   "cell_type": "markdown",
   "id": "92bd5764-1205-44f9-984e-96f38b3318ee",
   "metadata": {},
   "source": [
    "There is also an option to load atomic data from the DataFrame back to the original `Structure`"
   ]
  },
  {
   "cell_type": "code",
   "execution_count": null,
   "id": "9e0fd446-9f36-4e77-9829-8a43c5877fe9",
   "metadata": {},
   "outputs": [],
   "source": [
    "parm.atoms[:10]"
   ]
  },
  {
   "cell_type": "code",
   "execution_count": null,
   "id": "dfedaf1f-49fb-4501-8787-5d423505a6eb",
   "metadata": {},
   "outputs": [],
   "source": [
    "df[\"name\"] = \"AMBER\"\n",
    "new_parm = parm[:]\n",
    "new_parm.load_dataframe(df)\n",
    "new_parm.atoms[:10]"
   ]
  },
  {
   "cell_type": "markdown",
   "id": "3a71c19b-cc0d-4842-9995-3de51cdbb593",
   "metadata": {},
   "source": [
    "# Save the resulting structure\n",
    "\n",
    "And of course you can save the resulting structure to any file format"
   ]
  },
  {
   "cell_type": "code",
   "execution_count": null,
   "id": "ef053ccb-7c04-4562-8b3e-9d0d551d206f",
   "metadata": {},
   "outputs": [],
   "source": [
    "parm.save(\"system.top\", format=\"GROMACS\")\n",
    "parm.save(\"system.gro\")"
   ]
  },
  {
   "cell_type": "code",
   "execution_count": null,
   "id": "f41e315b-0bbc-4c41-90c7-928b3c0271de",
   "metadata": {
    "tags": []
   },
   "outputs": [],
   "source": []
  }
 ],
 "metadata": {
  "kernelspec": {
   "display_name": "Python 3 (ipykernel)",
   "language": "python",
   "name": "python3"
  },
  "language_info": {
   "codemirror_mode": {
    "name": "ipython",
    "version": 3
   },
   "file_extension": ".py",
   "mimetype": "text/x-python",
   "name": "python",
   "nbconvert_exporter": "python",
   "pygments_lexer": "ipython3",
   "version": "3.9.13"
  }
 },
 "nbformat": 4,
 "nbformat_minor": 5
}
